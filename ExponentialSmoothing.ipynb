{
  "nbformat": 4,
  "nbformat_minor": 0,
  "metadata": {
    "colab": {
      "name": "ExponentialSmoothing.ipynb",
      "provenance": []
    },
    "kernelspec": {
      "name": "python3",
      "display_name": "Python 3"
    },
    "language_info": {
      "name": "python"
    }
  },
  "cells": [
    {
      "cell_type": "code",
      "metadata": {
        "id": "pVLuGoVen-RO"
      },
      "source": [
        "import pandas as pd\n",
        "import numpy as np\n",
        "import statsmodels as sm\n",
        "from statsmodels.tsa.holtwinters import ExponentialSmoothing\n",
        "import matplotlib.pyplot as plt\n"
      ],
      "execution_count": 3,
      "outputs": []
    },
    {
      "cell_type": "code",
      "metadata": {
        "id": "Q4tfZF-7oESR"
      },
      "source": [
        "dfStock = pd.read_csv('APPL.csv') \n",
        "dfStock.shape\n",
        "#Adj closing\n",
        "dfStockClose = dfStock.filter(['Adj Close'])\n",
        "#converting to numpy array\n",
        "dataset = dfStockClose.values\n",
        "lenData = len(dataset)"
      ],
      "execution_count": 6,
      "outputs": []
    },
    {
      "cell_type": "code",
      "metadata": {
        "id": "R1yk-hbpw4RO"
      },
      "source": [
        "dfStockClose1 = dfStockClose[:2000]"
      ],
      "execution_count": 23,
      "outputs": []
    },
    {
      "cell_type": "code",
      "metadata": {
        "colab": {
          "base_uri": "https://localhost:8080/"
        },
        "id": "3pTPhUUXvEGq",
        "outputId": "d780639b-0eee-4602-85c7-d2034eabd93b"
      },
      "source": [
        "model = ExponentialSmoothing(endog= dfStockClose1['Adj Close'], trend = 'add', seasonal= \"add\", seasonal_periods = 7).fit()"
      ],
      "execution_count": 24,
      "outputs": [
        {
          "output_type": "stream",
          "name": "stderr",
          "text": [
            "/usr/local/lib/python3.7/dist-packages/statsmodels/tsa/holtwinters.py:712: ConvergenceWarning: Optimization failed to converge. Check mle_retvals.\n",
            "  ConvergenceWarning)\n"
          ]
        }
      ]
    },
    {
      "cell_type": "code",
      "metadata": {
        "id": "STIzBqHDznaY"
      },
      "source": [
        " \n",
        "dataset1 = dataset[:2000] #training\n",
        "lenData1 = len(dataset1)\n",
        "RESULTS = []\n",
        "for i in range(100):\n",
        "\n",
        "  dataRange = lenData1 + i\n",
        "  dataset3 = dataset[0:dataRange, ]\n",
        "    # print('Length of DATASET3', len(dataset3))\n",
        "  training_data_length = dataRange - 1\n",
        "  training_data = dataset[:training_data_length]\n",
        "  print(training_data)\n",
        "  print('Print ',training_data[1])\n",
        "  model = ExponentialSmoothing(endog= training_data, seasonal_periods = 5).fit()\n",
        "  predictions = model.forecast(steps= 1)\n",
        "\n",
        "  if predictions > dataset3[-2]:\n",
        "    \n",
        "    UpDownPred = 1\n",
        "\n",
        "  if predictions < dataset3[-2]:\n",
        "    \n",
        "    UpDownPred = 0\n",
        "\n",
        "  if dataset3[-1] > dataset3[-2]:\n",
        "    UpDownActual = 1\n",
        "\n",
        "  if dataset3[-1] < dataset3[-2]:\n",
        "    UpDownActual = 0\n",
        "\n",
        "  if UpDownPred == 1 and UpDownActual == 1:\n",
        "    print('Correct Price is going up')\n",
        "    ResultSmooth = 1\n",
        "\n",
        "  if UpDownPred == 0 and UpDownActual == 0:\n",
        "    print('Correct Price is going down')\n",
        "    ResultSmooth = 2\n",
        "\n",
        "  if UpDownPred == 1 and UpDownActual == 0:\n",
        "    print('Incorrect Pred UP Actual DOWN')\n",
        "    ResultSmooth = 3\n",
        "\n",
        "  if UpDownPred == 0 and UpDownActual == 1:\n",
        "    print('Incorrect Pred DOWN Actual UP')\n",
        "    ResultSmooth = 4\n",
        "\n",
        "  RESULTS.append(ResultSmooth)\n",
        "    # print(RESULTS)\n",
        "  ones=  RESULTS.count(1)\n",
        "  twos = RESULTS.count(2)\n",
        "  threes = RESULTS.count(3)\n",
        "  fours = RESULTS.count(4)\n",
        "    \n",
        "  totalCorrect = ones + twos\n",
        "  total = totalCorrect + threes + fours\n",
        "\n",
        "  percentage = (100/total) * totalCorrect\n",
        "  print('PERCENTAGE CORRECT', percentage)\n",
        "  print('Correct UP                       ', ones)\n",
        "  print('Correct Down                     ', twos)\n",
        "  print('Incorrect Pred UP Actual Down    ', threes)\n",
        "  print('Incorrect Pred Down Actual Up    ', fours)\n",
        "    "
      ],
      "execution_count": null,
      "outputs": []
    }
  ]
}